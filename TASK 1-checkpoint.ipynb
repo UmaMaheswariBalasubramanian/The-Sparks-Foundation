{
 "cells": [
  {
   "cell_type": "markdown",
   "id": "c9de55a8",
   "metadata": {},
   "source": [
    "# The Spark Foundation - Data Science & Business Analytics Internship"
   ]
  },
  {
   "cell_type": "markdown",
   "id": "499e8acf",
   "metadata": {},
   "source": [
    "# Batch - March 2022"
   ]
  },
  {
   "cell_type": "markdown",
   "id": "384b5176",
   "metadata": {},
   "source": [
    "# Task 1 - Prediction using supervised machine learning."
   ]
  },
  {
   "cell_type": "markdown",
   "id": "c93c78e3",
   "metadata": {},
   "source": [
    "# Linear Regression with Python Scikit Learn\n",
    "In this section we will see how the Python Scikit-Learn library for machine learning can be used to implement regression functions. We will start with simple linear regression involving two variables."
   ]
  },
  {
   "cell_type": "markdown",
   "id": "92e7f49c",
   "metadata": {},
   "source": [
    "# Simple Linear Regression"
   ]
  },
  {
   "cell_type": "code",
   "execution_count": null,
   "id": "48f16234",
   "metadata": {},
   "outputs": [],
   "source": [
    "In this regression task we will predict the percentage of marks that a student is expected to score based upon the number of hours they studied. This is a simple linear regression task as it involves just two variables."
   ]
  },
  {
   "cell_type": "markdown",
   "id": "e07141dc",
   "metadata": {},
   "source": [
    "# To predict : What will be the predicted score if a student studies for 9.25 hrs/day."
   ]
  },
  {
   "cell_type": "code",
   "execution_count": null,
   "id": "59938fef",
   "metadata": {},
   "outputs": [],
   "source": []
  }
 ],
 "metadata": {
  "kernelspec": {
   "display_name": "Python 3 (ipykernel)",
   "language": "python",
   "name": "python3"
  },
  "language_info": {
   "codemirror_mode": {
    "name": "ipython",
    "version": 3
   },
   "file_extension": ".py",
   "mimetype": "text/x-python",
   "name": "python",
   "nbconvert_exporter": "python",
   "pygments_lexer": "ipython3",
   "version": "3.9.7"
  }
 },
 "nbformat": 4,
 "nbformat_minor": 5
}
